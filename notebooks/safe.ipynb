{
 "cells": [
  {
   "cell_type": "code",
   "execution_count": 1,
   "id": "d0ae75f4",
   "metadata": {},
   "outputs": [
    {
     "name": "stderr",
     "output_type": "stream",
     "text": [
      "/Users/chenwuhao/Dev/md4/.venv/lib/python3.12/site-packages/tqdm/auto.py:21: TqdmWarning: IProgress not found. Please update jupyter and ipywidgets. See https://ipywidgets.readthedocs.io/en/stable/user_install.html\n",
      "  from .autonotebook import tqdm as notebook_tqdm\n"
     ]
    }
   ],
   "source": [
    "import safe"
   ]
  },
  {
   "cell_type": "code",
   "execution_count": 3,
   "id": "7d0513c9",
   "metadata": {},
   "outputs": [],
   "source": [
    "encoded_safe = safe.encode(\"COc1cc2c(c(OC)c1OC)-c1ccc(NCCCC(=O)N3CCC(N=C(O)OC(C)(C)C)CC3)c(=O)cc1C(N=C(C)O)CC2\")\n"
   ]
  },
  {
   "cell_type": "code",
   "execution_count": 15,
   "id": "ff7161cc",
   "metadata": {},
   "outputs": [
    {
     "name": "stderr",
     "output_type": "stream",
     "text": [
      "/Users/chenwuhao/Dev/md4/.venv/lib/python3.12/site-packages/huggingface_hub/file_download.py:943: FutureWarning: `resume_download` is deprecated and will be removed in version 1.0.0. Downloads always resume when possible. If you want to force a new download, use `force_download=True`.\n",
      "  warnings.warn(\n"
     ]
    }
   ],
   "source": [
    "tokenizer = safe.SAFETokenizer.from_pretrained(\"datamol-io/safe-gpt\")\n",
    "tokenizer = tokenizer.get_pretrained()"
   ]
  },
  {
   "cell_type": "code",
   "execution_count": 19,
   "id": "99e8d9b6",
   "metadata": {},
   "outputs": [
    {
     "name": "stdout",
     "output_type": "stream",
     "text": [
      "SAFE: N5C(O)=Nc1c2c(cc3c1CCC3)CCC2.c16coc(S5(=O)=O)c1.CC6(C)O\n",
      "Tokenized: ['[CLS]', 'N', '5', 'C', '(', 'O', ')', '=', 'N', 'c', '1', 'c', '2', 'c', '(', 'c', 'c', '3', 'c', '1', 'C', 'C', 'C', '3', ')', 'C', 'C', 'C', '2', '.', 'c', '1', '6', 'c', 'o', 'c', '(', 'S', '5', '(', '=', 'O', ')', '=', 'O', ')', 'c', '1', '.', 'C', 'C', '6', '(', 'C', ')', 'O', '[SEP]']\n"
     ]
    }
   ],
   "source": [
    "encoded_safe = safe.encode(\"CC(C)(O)c1coc(S(=O)(=O)NC(O)=Nc2c3c(cc4c2CCC4)CCC3)c1\")\n",
    "tokenized = tokenizer.convert_ids_to_tokens(tokenizer.encode(encoded_safe))\n",
    "print(f\"SAFE: {encoded_safe}\")\n",
    "print(f\"Tokenized: {tokenized}\")"
   ]
  },
  {
   "cell_type": "code",
   "execution_count": 21,
   "id": "30a1481d",
   "metadata": {},
   "outputs": [
    {
     "name": "stdout",
     "output_type": "stream",
     "text": [
      "57\n"
     ]
    }
   ],
   "source": [
    "print(len(tokenized))"
   ]
  },
  {
   "cell_type": "code",
   "execution_count": null,
   "id": "cd178dc9",
   "metadata": {},
   "outputs": [],
   "source": []
  }
 ],
 "metadata": {
  "kernelspec": {
   "display_name": ".venv",
   "language": "python",
   "name": "python3"
  },
  "language_info": {
   "codemirror_mode": {
    "name": "ipython",
    "version": 3
   },
   "file_extension": ".py",
   "mimetype": "text/x-python",
   "name": "python",
   "nbconvert_exporter": "python",
   "pygments_lexer": "ipython3",
   "version": "3.12.10"
  }
 },
 "nbformat": 4,
 "nbformat_minor": 5
}
